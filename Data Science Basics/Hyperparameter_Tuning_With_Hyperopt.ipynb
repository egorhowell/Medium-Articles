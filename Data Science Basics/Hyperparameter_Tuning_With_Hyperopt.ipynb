{
 "metadata": {
  "kernelspec": {
   "language": "python",
   "display_name": "Python 3",
   "name": "python3"
  },
  "language_info": {
   "name": "python",
   "version": "3.7.10",
   "mimetype": "text/x-python",
   "codemirror_mode": {
    "name": "ipython",
    "version": 3
   },
   "pygments_lexer": "ipython3",
   "nbconvert_exporter": "python",
   "file_extension": ".py"
  }
 },
 "nbformat_minor": 4,
 "nbformat": 4,
 "cells": [
  {
   "cell_type": "code",
   "source": "# read in packages\nimport matplotlib.pyplot as plt\nimport pandas as pd\nimport numpy as np\nfrom sklearn.model_selection import train_test_split\nfrom sklearn.ensemble import RandomForestClassifier\nfrom sklearn.metrics import accuracy_score",
   "metadata": {
    "execution": {
     "iopub.status.busy": "2021-11-03T19:37:58.526074Z",
     "iopub.execute_input": "2021-11-03T19:37:58.526637Z",
     "iopub.status.idle": "2021-11-03T19:37:58.530324Z",
     "shell.execute_reply.started": "2021-11-03T19:37:58.526584Z",
     "shell.execute_reply": "2021-11-03T19:37:58.529776Z"
    },
    "trusted": true
   },
   "execution_count": 19,
   "outputs": []
  },
  {
   "cell_type": "code",
   "source": "# read in hyperopt values\nfrom hyperopt import fmin, hp, tpe, Trials, space_eval, STATUS_OK",
   "metadata": {
    "execution": {
     "iopub.status.busy": "2021-11-03T19:35:42.151918Z",
     "iopub.execute_input": "2021-11-03T19:35:42.152208Z",
     "iopub.status.idle": "2021-11-03T19:35:43.612585Z",
     "shell.execute_reply.started": "2021-11-03T19:35:42.152174Z",
     "shell.execute_reply": "2021-11-03T19:35:43.611679Z"
    },
    "trusted": true
   },
   "execution_count": 5,
   "outputs": []
  },
  {
   "cell_type": "code",
   "source": [
    "# read in the data and info\n",
    "data = pd.read_csv(\"../input/water-potability/water_potability.csv\")\n",
    "data.info()"
   ],
   "metadata": {
    "execution": {
     "iopub.status.busy": "2021-11-03T19:36:21.180956Z",
     "iopub.execute_input": "2021-11-03T19:36:21.181548Z",
     "iopub.status.idle": "2021-11-03T19:36:21.263015Z",
     "shell.execute_reply.started": "2021-11-03T19:36:21.181497Z",
     "shell.execute_reply": "2021-11-03T19:36:21.261850Z"
    },
    "trusted": true
   },
   "execution_count": 13,
   "outputs": []
  },
  {
   "cell_type": "code",
   "source": "# remove missing values\ndata = data.dropna()\ndata.info()",
   "metadata": {
    "execution": {
     "iopub.status.busy": "2021-11-03T19:36:22.133865Z",
     "iopub.execute_input": "2021-11-03T19:36:22.134153Z",
     "iopub.status.idle": "2021-11-03T19:36:22.153070Z",
     "shell.execute_reply.started": "2021-11-03T19:36:22.134120Z",
     "shell.execute_reply": "2021-11-03T19:36:22.152187Z"
    },
    "trusted": true
   },
   "execution_count": 14,
   "outputs": []
  },
  {
   "cell_type": "code",
   "source": [
    "# split to train and test\n",
    "X = data.drop([\"Potability\"], axis=1)\n",
    "y = data[\"Potability\"]\n",
    "x_train, x_test, y_train, y_test = train_test_split(\n",
    "    X, y, test_size=0.2, random_state=200\n",
    ")"
   ],
   "metadata": {
    "execution": {
     "iopub.status.busy": "2021-11-03T19:36:23.064134Z",
     "iopub.execute_input": "2021-11-03T19:36:23.064596Z",
     "iopub.status.idle": "2021-11-03T19:36:23.074305Z",
     "shell.execute_reply.started": "2021-11-03T19:36:23.064556Z",
     "shell.execute_reply": "2021-11-03T19:36:23.072867Z"
    },
    "trusted": true
   },
   "execution_count": 15,
   "outputs": []
  },
  {
   "cell_type": "code",
   "source": [
    "# build the model\n",
    "model = RandomForestClassifier(n_estimators=300, max_features=\"sqrt\", random_state=42)\n",
    "model.fit(x_train, y_train)\n",
    "y_pred = model.predict(x_test)"
   ],
   "metadata": {
    "execution": {
     "iopub.status.busy": "2021-11-03T19:36:24.552277Z",
     "iopub.execute_input": "2021-11-03T19:36:24.552841Z",
     "iopub.status.idle": "2021-11-03T19:36:26.243479Z",
     "shell.execute_reply.started": "2021-11-03T19:36:24.552805Z",
     "shell.execute_reply": "2021-11-03T19:36:26.242667Z"
    },
    "trusted": true
   },
   "execution_count": 16,
   "outputs": []
  },
  {
   "cell_type": "code",
   "source": "print(\"Accuracy:\", accuracy_score(y_test, y_pred))",
   "metadata": {
    "execution": {
     "iopub.status.busy": "2021-11-03T19:38:07.195610Z",
     "iopub.execute_input": "2021-11-03T19:38:07.195914Z",
     "iopub.status.idle": "2021-11-03T19:38:07.201763Z",
     "shell.execute_reply.started": "2021-11-03T19:38:07.195881Z",
     "shell.execute_reply": "2021-11-03T19:38:07.200696Z"
    },
    "trusted": true
   },
   "execution_count": 20,
   "outputs": []
  },
  {
   "cell_type": "code",
   "source": [
    "# define the function we want to minimise\n",
    "def objective(n_estimators):\n",
    "    model = RandomForestClassifier(\n",
    "        n_estimators=n_estimators, max_features=\"sqrt\", random_state=42\n",
    "    )\n",
    "    model.fit(x_train, y_train)\n",
    "    y_pred = model.predict(x_test)\n",
    "    accuracy = accuracy_score(y_test, y_pred)\n",
    "    return {\"loss\": -accuracy, \"status\": STATUS_OK}"
   ],
   "metadata": {
    "execution": {
     "iopub.status.busy": "2021-11-03T19:38:09.797410Z",
     "iopub.execute_input": "2021-11-03T19:38:09.797896Z",
     "iopub.status.idle": "2021-11-03T19:38:09.802370Z",
     "shell.execute_reply.started": "2021-11-03T19:38:09.797863Z",
     "shell.execute_reply": "2021-11-03T19:38:09.801680Z"
    },
    "trusted": true
   },
   "execution_count": 21,
   "outputs": []
  },
  {
   "cell_type": "code",
   "source": [
    "# set the hyperparam tuning algorithm\n",
    "algorithm = tpe.suggest"
   ],
   "metadata": {
    "execution": {
     "iopub.status.busy": "2021-11-03T19:38:19.138702Z",
     "iopub.execute_input": "2021-11-03T19:38:19.138975Z",
     "iopub.status.idle": "2021-11-03T19:38:19.142549Z",
     "shell.execute_reply.started": "2021-11-03T19:38:19.138946Z",
     "shell.execute_reply": "2021-11-03T19:38:19.141718Z"
    },
    "trusted": true
   },
   "execution_count": 22,
   "outputs": []
  },
  {
   "cell_type": "code",
   "source": [
    "# define the values to search over for n_estimators\n",
    "search_space = hp.randint(\"n_estimators\", 200, 1000)"
   ],
   "metadata": {
    "execution": {
     "iopub.status.busy": "2021-11-03T19:38:21.050266Z",
     "iopub.execute_input": "2021-11-03T19:38:21.051256Z",
     "iopub.status.idle": "2021-11-03T19:38:21.055658Z",
     "shell.execute_reply.started": "2021-11-03T19:38:21.051214Z",
     "shell.execute_reply": "2021-11-03T19:38:21.054672Z"
    },
    "trusted": true
   },
   "execution_count": 23,
   "outputs": []
  },
  {
   "cell_type": "code",
   "source": [
    "best_params = fmin(fn=objective, space=search_space, algo=algorithm, max_evals=200)"
   ],
   "metadata": {
    "execution": {
     "iopub.status.busy": "2021-11-03T19:38:23.103135Z",
     "iopub.execute_input": "2021-11-03T19:38:23.103436Z",
     "iopub.status.idle": "2021-11-03T19:49:19.683513Z",
     "shell.execute_reply.started": "2021-11-03T19:38:23.103385Z",
     "shell.execute_reply": "2021-11-03T19:49:19.682336Z"
    },
    "trusted": true
   },
   "execution_count": 24,
   "outputs": []
  },
  {
   "cell_type": "code",
   "source": "best_params",
   "metadata": {
    "execution": {
     "iopub.status.busy": "2021-11-03T19:49:45.011499Z",
     "iopub.execute_input": "2021-11-03T19:49:45.012405Z",
     "iopub.status.idle": "2021-11-03T19:49:45.019767Z",
     "shell.execute_reply.started": "2021-11-03T19:49:45.012354Z",
     "shell.execute_reply": "2021-11-03T19:49:45.019062Z"
    },
    "trusted": true
   },
   "execution_count": 25,
   "outputs": []
  },
  {
   "cell_type": "code",
   "source": [
    "# redefine the function usng a wider range of hyperparameters\n",
    "def objective(search_space):\n",
    "    model = RandomForestClassifier(**search_space, random_state=42)\n",
    "    model.fit(x_train, y_train)\n",
    "    y_pred = model.predict(x_test)\n",
    "    accuracy = accuracy_score(y_test, y_pred)\n",
    "    return {\"loss\": -accuracy, \"status\": STATUS_OK}"
   ],
   "metadata": {
    "execution": {
     "iopub.status.busy": "2021-11-03T19:49:46.985436Z",
     "iopub.execute_input": "2021-11-03T19:49:46.986013Z",
     "iopub.status.idle": "2021-11-03T19:49:46.990566Z",
     "shell.execute_reply.started": "2021-11-03T19:49:46.985976Z",
     "shell.execute_reply": "2021-11-03T19:49:46.989870Z"
    },
    "trusted": true
   },
   "execution_count": 26,
   "outputs": []
  },
  {
   "cell_type": "code",
   "source": [
    "search_space = {\n",
    "    \"n_estimators\": hp.randint(\"n_estimators\", 200, 1000),\n",
    "    \"max_depth\": hp.randint(\"max_depth\", 10, 200),\n",
    "    \"min_samples_split\": hp.uniform(\"min_samples_split\", 0, 1),\n",
    "    \"min_samples_leaf\": hp.randint(\"min_samples_leaf\", 1, 10),\n",
    "    \"criterion\": hp.choice(\"criterion\", [\"gini\", \"entropy\"]),\n",
    "    \"max_features\": hp.choice(\"max_features\", [\"sqrt\", \"log2\"]),\n",
    "}"
   ],
   "metadata": {
    "execution": {
     "iopub.status.busy": "2021-11-03T19:49:49.637701Z",
     "iopub.execute_input": "2021-11-03T19:49:49.638225Z",
     "iopub.status.idle": "2021-11-03T19:49:49.644112Z",
     "shell.execute_reply.started": "2021-11-03T19:49:49.638183Z",
     "shell.execute_reply": "2021-11-03T19:49:49.643196Z"
    },
    "trusted": true
   },
   "execution_count": 27,
   "outputs": []
  },
  {
   "cell_type": "code",
   "source": [
    "best_params = fmin(fn=objective, space=search_space, algo=algorithm, max_evals=200)"
   ],
   "metadata": {
    "execution": {
     "iopub.status.busy": "2021-11-03T19:49:54.419664Z",
     "iopub.execute_input": "2021-11-03T19:49:54.419945Z",
     "iopub.status.idle": "2021-11-03T19:58:52.533183Z",
     "shell.execute_reply.started": "2021-11-03T19:49:54.419912Z",
     "shell.execute_reply": "2021-11-03T19:58:52.532349Z"
    },
    "trusted": true
   },
   "execution_count": 28,
   "outputs": []
  },
  {
   "cell_type": "code",
   "source": "space_eval(search_space, best_params)",
   "metadata": {
    "execution": {
     "iopub.status.busy": "2021-11-03T20:00:59.690302Z",
     "iopub.execute_input": "2021-11-03T20:00:59.690606Z",
     "iopub.status.idle": "2021-11-03T20:00:59.697041Z",
     "shell.execute_reply.started": "2021-11-03T20:00:59.690574Z",
     "shell.execute_reply": "2021-11-03T20:00:59.696251Z"
    },
    "trusted": true
   },
   "execution_count": 31,
   "outputs": []
  },
  {
   "cell_type": "code",
   "source": "",
   "metadata": {},
   "execution_count": null,
   "outputs": []
  }
 ]
}
