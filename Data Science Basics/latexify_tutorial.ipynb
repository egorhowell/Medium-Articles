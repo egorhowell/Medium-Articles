{
 "cells": [
  {
   "cell_type": "code",
   "execution_count": 6,
   "id": "7f0e6ee7",
   "metadata": {},
   "outputs": [],
   "source": [
    "import math\n",
    "import latexify"
   ]
  },
  {
   "cell_type": "code",
   "execution_count": 7,
   "id": "bbb076cf",
   "metadata": {},
   "outputs": [
    {
     "data": {
      "text/plain": [
       "'0.2.0'"
      ]
     },
     "execution_count": 7,
     "metadata": {},
     "output_type": "execute_result"
    }
   ],
   "source": [
    "latexify.__version__"
   ]
  },
  {
   "cell_type": "code",
   "execution_count": 14,
   "id": "bf192ccf",
   "metadata": {},
   "outputs": [],
   "source": [
    "@latexify.function\n",
    "def equation(x):\n",
    "    return x**2 - 4 * x + 4"
   ]
  },
  {
   "cell_type": "code",
   "execution_count": 15,
   "id": "f2b6e036",
   "metadata": {},
   "outputs": [
    {
     "data": {
      "text/latex": [
       "$$ \\displaystyle \\mathrm{equation}(x) = x^{{2}} - {4} x + {4} $$"
      ],
      "text/plain": [
       "<latexify.frontend.LatexifiedFunction at 0x7f8621fc3d90>"
      ]
     },
     "execution_count": 15,
     "metadata": {},
     "output_type": "execute_result"
    }
   ],
   "source": [
    "equation"
   ]
  },
  {
   "cell_type": "code",
   "execution_count": 17,
   "id": "e56cbd85",
   "metadata": {},
   "outputs": [
    {
     "data": {
      "text/plain": [
       "4"
      ]
     },
     "execution_count": 17,
     "metadata": {},
     "output_type": "execute_result"
    }
   ],
   "source": [
    "equation(4)"
   ]
  },
  {
   "cell_type": "code",
   "execution_count": 18,
   "id": "994d1229",
   "metadata": {},
   "outputs": [
    {
     "data": {
      "text/plain": [
       "'\\\\mathrm{equation}(x) = x^{{2}} - {4} x + {4}'"
      ]
     },
     "execution_count": 18,
     "metadata": {},
     "output_type": "execute_result"
    }
   ],
   "source": [
    "str(equation)"
   ]
  },
  {
   "cell_type": "code",
   "execution_count": 20,
   "id": "13932fb5",
   "metadata": {},
   "outputs": [
    {
     "data": {
      "text/latex": [
       "$$ \\displaystyle x^{{2}} - {4} x + {4} $$"
      ],
      "text/plain": [
       "<latexify.frontend.LatexifiedFunction at 0x7f8621f919d0>"
      ]
     },
     "execution_count": 20,
     "metadata": {},
     "output_type": "execute_result"
    }
   ],
   "source": [
    "@latexify.expression\n",
    "def equation(x):\n",
    "    return x**2 - 4 * x + 4\n",
    "\n",
    "\n",
    "equation"
   ]
  }
 ],
 "metadata": {
  "kernelspec": {
   "display_name": "Python 3 (ipykernel)",
   "language": "python",
   "name": "python3"
  },
  "language_info": {
   "codemirror_mode": {
    "name": "ipython",
    "version": 3
   },
   "file_extension": ".py",
   "mimetype": "text/x-python",
   "name": "python",
   "nbconvert_exporter": "python",
   "pygments_lexer": "ipython3",
   "version": "3.9.12"
  }
 },
 "nbformat": 4,
 "nbformat_minor": 5
}
