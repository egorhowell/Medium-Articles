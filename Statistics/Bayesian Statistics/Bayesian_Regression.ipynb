{
 "cells": [
  {
   "cell_type": "markdown",
   "id": "137fd87b",
   "metadata": {},
   "source": [
    "## Packages"
   ]
  },
  {
   "cell_type": "code",
   "execution_count": 30,
   "id": "ab744c83",
   "metadata": {},
   "outputs": [],
   "source": [
    "# Import packages\n",
    "import pandas as pd\n",
    "import numpy as np\n",
    "import matplotlib.pyplot as plt\n",
    "from sklearn import datasets\n",
    "from scipy.stats import norm\n",
    "import statsmodels.formula.api as smf"
   ]
  },
  {
   "cell_type": "markdown",
   "id": "2d1a9cc5",
   "metadata": {},
   "source": [
    "## Data"
   ]
  },
  {
   "cell_type": "code",
   "execution_count": 12,
   "id": "42d74c84",
   "metadata": {},
   "outputs": [],
   "source": [
    "# Generate data\n",
    "x, y = datasets.make_regression(n_samples=100, n_features=1, noise=10)"
   ]
  },
  {
   "cell_type": "code",
   "execution_count": 168,
   "id": "df3ba4ae",
   "metadata": {},
   "outputs": [
    {
     "data": {
      "text/html": [
       "<div>\n",
       "<style scoped>\n",
       "    .dataframe tbody tr th:only-of-type {\n",
       "        vertical-align: middle;\n",
       "    }\n",
       "\n",
       "    .dataframe tbody tr th {\n",
       "        vertical-align: top;\n",
       "    }\n",
       "\n",
       "    .dataframe thead th {\n",
       "        text-align: right;\n",
       "    }\n",
       "</style>\n",
       "<table border=\"1\" class=\"dataframe\">\n",
       "  <thead>\n",
       "    <tr style=\"text-align: right;\">\n",
       "      <th></th>\n",
       "      <th>x</th>\n",
       "      <th>y</th>\n",
       "    </tr>\n",
       "  </thead>\n",
       "  <tbody>\n",
       "    <tr>\n",
       "      <th>0</th>\n",
       "      <td>0.083191</td>\n",
       "      <td>4.329408</td>\n",
       "    </tr>\n",
       "    <tr>\n",
       "      <th>1</th>\n",
       "      <td>1.778799</td>\n",
       "      <td>95.412219</td>\n",
       "    </tr>\n",
       "    <tr>\n",
       "      <th>2</th>\n",
       "      <td>0.093974</td>\n",
       "      <td>17.107475</td>\n",
       "    </tr>\n",
       "    <tr>\n",
       "      <th>3</th>\n",
       "      <td>-1.399399</td>\n",
       "      <td>-85.306632</td>\n",
       "    </tr>\n",
       "    <tr>\n",
       "      <th>4</th>\n",
       "      <td>-1.022714</td>\n",
       "      <td>-65.563403</td>\n",
       "    </tr>\n",
       "    <tr>\n",
       "      <th>...</th>\n",
       "      <td>...</td>\n",
       "      <td>...</td>\n",
       "    </tr>\n",
       "    <tr>\n",
       "      <th>95</th>\n",
       "      <td>-1.370349</td>\n",
       "      <td>-71.944154</td>\n",
       "    </tr>\n",
       "    <tr>\n",
       "      <th>96</th>\n",
       "      <td>-0.264199</td>\n",
       "      <td>-29.742349</td>\n",
       "    </tr>\n",
       "    <tr>\n",
       "      <th>97</th>\n",
       "      <td>-1.312012</td>\n",
       "      <td>-73.078023</td>\n",
       "    </tr>\n",
       "    <tr>\n",
       "      <th>98</th>\n",
       "      <td>0.531323</td>\n",
       "      <td>25.683228</td>\n",
       "    </tr>\n",
       "    <tr>\n",
       "      <th>99</th>\n",
       "      <td>0.302278</td>\n",
       "      <td>28.462684</td>\n",
       "    </tr>\n",
       "  </tbody>\n",
       "</table>\n",
       "<p>100 rows × 2 columns</p>\n",
       "</div>"
      ],
      "text/plain": [
       "           x          y\n",
       "0   0.083191   4.329408\n",
       "1   1.778799  95.412219\n",
       "2   0.093974  17.107475\n",
       "3  -1.399399 -85.306632\n",
       "4  -1.022714 -65.563403\n",
       "..       ...        ...\n",
       "95 -1.370349 -71.944154\n",
       "96 -0.264199 -29.742349\n",
       "97 -1.312012 -73.078023\n",
       "98  0.531323  25.683228\n",
       "99  0.302278  28.462684\n",
       "\n",
       "[100 rows x 2 columns]"
      ]
     },
     "execution_count": 168,
     "metadata": {},
     "output_type": "execute_result"
    }
   ],
   "source": [
    "# Create the dataframe\n",
    "data = pd.DataFrame(list(zip(x.flatten(), y)), columns=[\"x\", \"y\"])\n",
    "data"
   ]
  },
  {
   "cell_type": "markdown",
   "id": "e6531be3",
   "metadata": {},
   "source": [
    "## OLS"
   ]
  },
  {
   "cell_type": "code",
   "execution_count": 169,
   "id": "a9bb702c",
   "metadata": {
    "scrolled": false
   },
   "outputs": [
    {
     "data": {
      "text/plain": [
       "Intercept     0.531490\n",
       "x            58.109462\n",
       "dtype: float64"
      ]
     },
     "execution_count": 169,
     "metadata": {},
     "output_type": "execute_result"
    }
   ],
   "source": [
    "# OLS line\n",
    "formula = \"y ~ x\"\n",
    "results = smf.ols(formula, data=data).fit()\n",
    "results.params"
   ]
  },
  {
   "cell_type": "code",
   "execution_count": 170,
   "id": "37d4e93c",
   "metadata": {},
   "outputs": [
    {
     "data": {
      "text/plain": [
       "9.428722899550861"
      ]
     },
     "execution_count": 170,
     "metadata": {},
     "output_type": "execute_result"
    }
   ],
   "source": [
    "# Get the residuals\n",
    "results.resid.std()"
   ]
  },
  {
   "cell_type": "code",
   "execution_count": 171,
   "id": "6e5714f1",
   "metadata": {},
   "outputs": [],
   "source": [
    "# Get our equation of the OLS line\n",
    "inter = results.params[\"Intercept\"]\n",
    "slope = results.params[\"x\"]\n",
    "x_vals = np.arange(min(x), max(x), 0.1)\n",
    "ols_line = inter + slope * x_vals"
   ]
  },
  {
   "cell_type": "code",
   "execution_count": 172,
   "id": "595ad8e6",
   "metadata": {
    "scrolled": false
   },
   "outputs": [
    {
     "data": {
      "image/png": "[encoded data removed]",
      "text/plain": [
       "<Figure size 648x360 with 1 Axes>"
      ]
     },
     "metadata": {
      "needs_background": "light"
     },
     "output_type": "display_data"
    }
   ],
   "source": [
    "# Plot the target against our feature with the OLS regression\n",
    "fig, ax = plt.subplots(figsize=(9, 5))\n",
    "ax.scatter(data[\"x\"], data[\"y\"])\n",
    "ax.plot(xs, ols_line, label=\"OLS Fit\", color=\"red\")\n",
    "ax.ticklabel_format(style=\"plain\")\n",
    "plt.xlabel(\"x\", fontsize=18)\n",
    "plt.ylabel(\"y\", fontsize=18)\n",
    "plt.xticks(fontsize=18)\n",
    "plt.yticks(fontsize=18)\n",
    "plt.legend(fontsize=16)\n",
    "plt.savefig(\"pic.png\")\n",
    "plt.show()"
   ]
  },
  {
   "cell_type": "markdown",
   "id": "df668229",
   "metadata": {},
   "source": [
    "## Priors"
   ]
  },
  {
   "cell_type": "code",
   "execution_count": 173,
   "id": "befc4e0f",
   "metadata": {},
   "outputs": [],
   "source": [
    "def make_uninformative_prior(name, data):\n",
    "    \"\"\"Function to make priors.\"\"\"\n",
    "    df = pd.DataFrame({name: data})\n",
    "    df[\"Prior\"] = 1 / len(data)\n",
    "    return df"
   ]
  },
  {
   "cell_type": "code",
   "execution_count": 177,
   "id": "b4b58ae9",
   "metadata": {},
   "outputs": [
    {
     "data": {
      "text/html": [
       "<div>\n",
       "<style scoped>\n",
       "    .dataframe tbody tr th:only-of-type {\n",
       "        vertical-align: middle;\n",
       "    }\n",
       "\n",
       "    .dataframe tbody tr th {\n",
       "        vertical-align: top;\n",
       "    }\n",
       "\n",
       "    .dataframe thead th {\n",
       "        text-align: right;\n",
       "    }\n",
       "</style>\n",
       "<table border=\"1\" class=\"dataframe\">\n",
       "  <thead>\n",
       "    <tr style=\"text-align: right;\">\n",
       "      <th></th>\n",
       "      <th>slope</th>\n",
       "      <th>Prior</th>\n",
       "    </tr>\n",
       "  </thead>\n",
       "  <tbody>\n",
       "    <tr>\n",
       "      <th>0</th>\n",
       "      <td>46.487569</td>\n",
       "      <td>0.016667</td>\n",
       "    </tr>\n",
       "    <tr>\n",
       "      <th>1</th>\n",
       "      <td>46.881532</td>\n",
       "      <td>0.016667</td>\n",
       "    </tr>\n",
       "    <tr>\n",
       "      <th>2</th>\n",
       "      <td>47.275494</td>\n",
       "      <td>0.016667</td>\n",
       "    </tr>\n",
       "    <tr>\n",
       "      <th>3</th>\n",
       "      <td>47.669457</td>\n",
       "      <td>0.016667</td>\n",
       "    </tr>\n",
       "    <tr>\n",
       "      <th>4</th>\n",
       "      <td>48.063419</td>\n",
       "      <td>0.016667</td>\n",
       "    </tr>\n",
       "  </tbody>\n",
       "</table>\n",
       "</div>"
      ],
      "text/plain": [
       "       slope     Prior\n",
       "0  46.487569  0.016667\n",
       "1  46.881532  0.016667\n",
       "2  47.275494  0.016667\n",
       "3  47.669457  0.016667\n",
       "4  48.063419  0.016667"
      ]
     },
     "execution_count": 177,
     "metadata": {},
     "output_type": "execute_result"
    }
   ],
   "source": [
    "# Create a range of values for the slope\n",
    "data_slope = np.linspace(results.params[\"x\"] * 0.8, results.params[\"x\"] * 1.2, num=60)\n",
    "prior_slope = make_uninformative_prior(\"slope\", data_slope)\n",
    "prior_slope.head()"
   ]
  },
  {
   "cell_type": "code",
   "execution_count": 174,
   "id": "38dcd03e",
   "metadata": {},
   "outputs": [
    {
     "data": {
      "text/html": [
       "<div>\n",
       "<style scoped>\n",
       "    .dataframe tbody tr th:only-of-type {\n",
       "        vertical-align: middle;\n",
       "    }\n",
       "\n",
       "    .dataframe tbody tr th {\n",
       "        vertical-align: top;\n",
       "    }\n",
       "\n",
       "    .dataframe thead th {\n",
       "        text-align: right;\n",
       "    }\n",
       "</style>\n",
       "<table border=\"1\" class=\"dataframe\">\n",
       "  <thead>\n",
       "    <tr style=\"text-align: right;\">\n",
       "      <th></th>\n",
       "      <th>intercept</th>\n",
       "      <th>Prior</th>\n",
       "    </tr>\n",
       "  </thead>\n",
       "  <tbody>\n",
       "    <tr>\n",
       "      <th>0</th>\n",
       "      <td>0.425192</td>\n",
       "      <td>0.016667</td>\n",
       "    </tr>\n",
       "    <tr>\n",
       "      <th>1</th>\n",
       "      <td>0.428795</td>\n",
       "      <td>0.016667</td>\n",
       "    </tr>\n",
       "    <tr>\n",
       "      <th>2</th>\n",
       "      <td>0.432399</td>\n",
       "      <td>0.016667</td>\n",
       "    </tr>\n",
       "    <tr>\n",
       "      <th>3</th>\n",
       "      <td>0.436002</td>\n",
       "      <td>0.016667</td>\n",
       "    </tr>\n",
       "    <tr>\n",
       "      <th>4</th>\n",
       "      <td>0.439605</td>\n",
       "      <td>0.016667</td>\n",
       "    </tr>\n",
       "  </tbody>\n",
       "</table>\n",
       "</div>"
      ],
      "text/plain": [
       "   intercept     Prior\n",
       "0   0.425192  0.016667\n",
       "1   0.428795  0.016667\n",
       "2   0.432399  0.016667\n",
       "3   0.436002  0.016667\n",
       "4   0.439605  0.016667"
      ]
     },
     "execution_count": 174,
     "metadata": {},
     "output_type": "execute_result"
    }
   ],
   "source": [
    "# Create a range of values for the intercept\n",
    "data_inter = np.linspace(\n",
    "    results.params[\"Intercept\"] * 0.8, results.params[\"Intercept\"] * 1.2, num=60\n",
    ")\n",
    "prior_inter = make_uninformative_prior(\"intercept\", data_inter)\n",
    "prior_inter.head()"
   ]
  },
  {
   "cell_type": "code",
   "execution_count": 176,
   "id": "85795489",
   "metadata": {},
   "outputs": [
    {
     "data": {
      "text/html": [
       "<div>\n",
       "<style scoped>\n",
       "    .dataframe tbody tr th:only-of-type {\n",
       "        vertical-align: middle;\n",
       "    }\n",
       "\n",
       "    .dataframe tbody tr th {\n",
       "        vertical-align: top;\n",
       "    }\n",
       "\n",
       "    .dataframe thead th {\n",
       "        text-align: right;\n",
       "    }\n",
       "</style>\n",
       "<table border=\"1\" class=\"dataframe\">\n",
       "  <thead>\n",
       "    <tr style=\"text-align: right;\">\n",
       "      <th></th>\n",
       "      <th>sigma</th>\n",
       "      <th>Prior</th>\n",
       "    </tr>\n",
       "  </thead>\n",
       "  <tbody>\n",
       "    <tr>\n",
       "      <th>0</th>\n",
       "      <td>7.542978</td>\n",
       "      <td>0.016667</td>\n",
       "    </tr>\n",
       "    <tr>\n",
       "      <th>1</th>\n",
       "      <td>7.606902</td>\n",
       "      <td>0.016667</td>\n",
       "    </tr>\n",
       "    <tr>\n",
       "      <th>2</th>\n",
       "      <td>7.670825</td>\n",
       "      <td>0.016667</td>\n",
       "    </tr>\n",
       "    <tr>\n",
       "      <th>3</th>\n",
       "      <td>7.734749</td>\n",
       "      <td>0.016667</td>\n",
       "    </tr>\n",
       "    <tr>\n",
       "      <th>4</th>\n",
       "      <td>7.798672</td>\n",
       "      <td>0.016667</td>\n",
       "    </tr>\n",
       "  </tbody>\n",
       "</table>\n",
       "</div>"
      ],
      "text/plain": [
       "      sigma     Prior\n",
       "0  7.542978  0.016667\n",
       "1  7.606902  0.016667\n",
       "2  7.670825  0.016667\n",
       "3  7.734749  0.016667\n",
       "4  7.798672  0.016667"
      ]
     },
     "execution_count": 176,
     "metadata": {},
     "output_type": "execute_result"
    }
   ],
   "source": [
    "# Create a range of values for the sigma\n",
    "data_sigma = np.linspace(results.resid.std() * 0.8, results.resid.std() * 1.2, num=60)\n",
    "prior_sigma = make_uninformative_prior(\"sigma\", data_sigma)\n",
    "prior_sigma.head()"
   ]
  },
  {
   "cell_type": "markdown",
   "id": "845bf2ee",
   "metadata": {},
   "source": [
    "## Likelihood"
   ]
  },
  {
   "cell_type": "code",
   "execution_count": 192,
   "id": "f42e5846",
   "metadata": {
    "scrolled": false
   },
   "outputs": [],
   "source": [
    "# Counter for the row index\n",
    "counter = 0\n",
    "\n",
    "# Dataframe to store the combinations in\n",
    "df = pd.DataFrame(columns=[\"slope\", \"intercept\", \"sigma\", \"prior\"])\n",
    "\n",
    "# Iterate through the slope\n",
    "for slope in prior_slope[\"slope\"]:\n",
    "    prob_slope = prior_slope[\"Prior\"].loc[prior_slope[\"slope\"] == slope]\n",
    "\n",
    "    # Iterate through the intercept\n",
    "    for intercept in prior_inter[\"intercept\"]:\n",
    "        prob_inter = prior_inter[\"Prior\"].loc[prior_inter[\"intercept\"] == intercept]\n",
    "\n",
    "        # Iterate through the error\n",
    "        for sigma in prior_sigma[\"sigma\"]:\n",
    "            prob_sigma = prior_sigma[\"Prior\"].loc[prior_sigma[\"sigma\"] == sigma]\n",
    "\n",
    "            # Calculate the prior of this specific combination\n",
    "            prob = float(prob_slope) * float(prob_inter) * float(prob_sigma)\n",
    "\n",
    "            # Insert the row of data\n",
    "            df.loc[counter] = [slope] + [intercept] + [sigma] + [prob]\n",
    "\n",
    "            # Update row index\n",
    "            counter += 1"
   ]
  },
  {
   "cell_type": "code",
   "execution_count": 195,
   "id": "0c4e3105",
   "metadata": {},
   "outputs": [
    {
     "data": {
      "text/html": [
       "<div>\n",
       "<style scoped>\n",
       "    .dataframe tbody tr th:only-of-type {\n",
       "        vertical-align: middle;\n",
       "    }\n",
       "\n",
       "    .dataframe tbody tr th {\n",
       "        vertical-align: top;\n",
       "    }\n",
       "\n",
       "    .dataframe thead th {\n",
       "        text-align: right;\n",
       "    }\n",
       "</style>\n",
       "<table border=\"1\" class=\"dataframe\">\n",
       "  <thead>\n",
       "    <tr style=\"text-align: right;\">\n",
       "      <th></th>\n",
       "      <th>slope</th>\n",
       "      <th>intercept</th>\n",
       "      <th>sigma</th>\n",
       "      <th>prior</th>\n",
       "    </tr>\n",
       "  </thead>\n",
       "  <tbody>\n",
       "    <tr>\n",
       "      <th>0</th>\n",
       "      <td>46.487569</td>\n",
       "      <td>0.425192</td>\n",
       "      <td>7.542978</td>\n",
       "      <td>0.000005</td>\n",
       "    </tr>\n",
       "    <tr>\n",
       "      <th>1</th>\n",
       "      <td>46.487569</td>\n",
       "      <td>0.425192</td>\n",
       "      <td>7.606902</td>\n",
       "      <td>0.000005</td>\n",
       "    </tr>\n",
       "    <tr>\n",
       "      <th>2</th>\n",
       "      <td>46.487569</td>\n",
       "      <td>0.425192</td>\n",
       "      <td>7.670825</td>\n",
       "      <td>0.000005</td>\n",
       "    </tr>\n",
       "    <tr>\n",
       "      <th>3</th>\n",
       "      <td>46.487569</td>\n",
       "      <td>0.425192</td>\n",
       "      <td>7.734749</td>\n",
       "      <td>0.000005</td>\n",
       "    </tr>\n",
       "    <tr>\n",
       "      <th>4</th>\n",
       "      <td>46.487569</td>\n",
       "      <td>0.425192</td>\n",
       "      <td>7.798672</td>\n",
       "      <td>0.000005</td>\n",
       "    </tr>\n",
       "    <tr>\n",
       "      <th>...</th>\n",
       "      <td>...</td>\n",
       "      <td>...</td>\n",
       "      <td>...</td>\n",
       "      <td>...</td>\n",
       "    </tr>\n",
       "    <tr>\n",
       "      <th>215995</th>\n",
       "      <td>69.731354</td>\n",
       "      <td>0.637788</td>\n",
       "      <td>11.058773</td>\n",
       "      <td>0.000005</td>\n",
       "    </tr>\n",
       "    <tr>\n",
       "      <th>215996</th>\n",
       "      <td>69.731354</td>\n",
       "      <td>0.637788</td>\n",
       "      <td>11.122697</td>\n",
       "      <td>0.000005</td>\n",
       "    </tr>\n",
       "    <tr>\n",
       "      <th>215997</th>\n",
       "      <td>69.731354</td>\n",
       "      <td>0.637788</td>\n",
       "      <td>11.186620</td>\n",
       "      <td>0.000005</td>\n",
       "    </tr>\n",
       "    <tr>\n",
       "      <th>215998</th>\n",
       "      <td>69.731354</td>\n",
       "      <td>0.637788</td>\n",
       "      <td>11.250544</td>\n",
       "      <td>0.000005</td>\n",
       "    </tr>\n",
       "    <tr>\n",
       "      <th>215999</th>\n",
       "      <td>69.731354</td>\n",
       "      <td>0.637788</td>\n",
       "      <td>11.314467</td>\n",
       "      <td>0.000005</td>\n",
       "    </tr>\n",
       "  </tbody>\n",
       "</table>\n",
       "<p>216000 rows × 4 columns</p>\n",
       "</div>"
      ],
      "text/plain": [
       "            slope  intercept      sigma     prior\n",
       "0       46.487569   0.425192   7.542978  0.000005\n",
       "1       46.487569   0.425192   7.606902  0.000005\n",
       "2       46.487569   0.425192   7.670825  0.000005\n",
       "3       46.487569   0.425192   7.734749  0.000005\n",
       "4       46.487569   0.425192   7.798672  0.000005\n",
       "...           ...        ...        ...       ...\n",
       "215995  69.731354   0.637788  11.058773  0.000005\n",
       "215996  69.731354   0.637788  11.122697  0.000005\n",
       "215997  69.731354   0.637788  11.186620  0.000005\n",
       "215998  69.731354   0.637788  11.250544  0.000005\n",
       "215999  69.731354   0.637788  11.314467  0.000005\n",
       "\n",
       "[216000 rows x 4 columns]"
      ]
     },
     "execution_count": 195,
     "metadata": {},
     "output_type": "execute_result"
    }
   ],
   "source": [
    "# View our df\n",
    "df"
   ]
  },
  {
   "cell_type": "code",
   "execution_count": 196,
   "id": "59de0b04",
   "metadata": {
    "scrolled": false
   },
   "outputs": [],
   "source": [
    "counter = 0\n",
    "df[\"likelihood\"] = df[\"prior\"]\n",
    "\n",
    "# Loop over the combination of values\n",
    "for slope in prior_slope[\"slope\"]:\n",
    "    for intercept in prior_inter[\"intercept\"]:\n",
    "        for sigma in prior_sigma[\"sigma\"]:\n",
    "\n",
    "            # Compute the predictions from this line\n",
    "            predictions = slope * data[\"x\"] + intercept\n",
    "\n",
    "            # Compute residual/errors of this line\n",
    "            residuals = data[\"y\"] - predictions\n",
    "\n",
    "            # Compute the likelihood function\n",
    "            likelihoods = norm(0, sigma).pdf(residuals)\n",
    "\n",
    "            # Compute the total likelihood\n",
    "            df[\"likelihood\"].loc[counter] = likelihoods.prod()\n",
    "            counter += 1"
   ]
  },
  {
   "cell_type": "code",
   "execution_count": 197,
   "id": "7334a545",
   "metadata": {},
   "outputs": [
    {
     "data": {
      "text/html": [
       "<div>\n",
       "<style scoped>\n",
       "    .dataframe tbody tr th:only-of-type {\n",
       "        vertical-align: middle;\n",
       "    }\n",
       "\n",
       "    .dataframe tbody tr th {\n",
       "        vertical-align: top;\n",
       "    }\n",
       "\n",
       "    .dataframe thead th {\n",
       "        text-align: right;\n",
       "    }\n",
       "</style>\n",
       "<table border=\"1\" class=\"dataframe\">\n",
       "  <thead>\n",
       "    <tr style=\"text-align: right;\">\n",
       "      <th></th>\n",
       "      <th>slope</th>\n",
       "      <th>intercept</th>\n",
       "      <th>sigma</th>\n",
       "      <th>prior</th>\n",
       "      <th>likelihood</th>\n",
       "    </tr>\n",
       "  </thead>\n",
       "  <tbody>\n",
       "    <tr>\n",
       "      <th>0</th>\n",
       "      <td>46.487569</td>\n",
       "      <td>0.425192</td>\n",
       "      <td>7.542978</td>\n",
       "      <td>0.000005</td>\n",
       "      <td>7.781344e-219</td>\n",
       "    </tr>\n",
       "    <tr>\n",
       "      <th>1</th>\n",
       "      <td>46.487569</td>\n",
       "      <td>0.425192</td>\n",
       "      <td>7.606902</td>\n",
       "      <td>0.000005</td>\n",
       "      <td>1.092113e-217</td>\n",
       "    </tr>\n",
       "    <tr>\n",
       "      <th>2</th>\n",
       "      <td>46.487569</td>\n",
       "      <td>0.425192</td>\n",
       "      <td>7.670825</td>\n",
       "      <td>0.000005</td>\n",
       "      <td>1.415345e-216</td>\n",
       "    </tr>\n",
       "    <tr>\n",
       "      <th>3</th>\n",
       "      <td>46.487569</td>\n",
       "      <td>0.425192</td>\n",
       "      <td>7.734749</td>\n",
       "      <td>0.000005</td>\n",
       "      <td>1.698358e-215</td>\n",
       "    </tr>\n",
       "    <tr>\n",
       "      <th>4</th>\n",
       "      <td>46.487569</td>\n",
       "      <td>0.425192</td>\n",
       "      <td>7.798672</td>\n",
       "      <td>0.000005</td>\n",
       "      <td>1.891944e-214</td>\n",
       "    </tr>\n",
       "    <tr>\n",
       "      <th>...</th>\n",
       "      <td>...</td>\n",
       "      <td>...</td>\n",
       "      <td>...</td>\n",
       "      <td>...</td>\n",
       "      <td>...</td>\n",
       "    </tr>\n",
       "    <tr>\n",
       "      <th>215995</th>\n",
       "      <td>69.731354</td>\n",
       "      <td>0.637788</td>\n",
       "      <td>11.058773</td>\n",
       "      <td>0.000005</td>\n",
       "      <td>4.384065e-187</td>\n",
       "    </tr>\n",
       "    <tr>\n",
       "      <th>215996</th>\n",
       "      <td>69.731354</td>\n",
       "      <td>0.637788</td>\n",
       "      <td>11.122697</td>\n",
       "      <td>0.000005</td>\n",
       "      <td>7.478815e-187</td>\n",
       "    </tr>\n",
       "    <tr>\n",
       "      <th>215997</th>\n",
       "      <td>69.731354</td>\n",
       "      <td>0.637788</td>\n",
       "      <td>11.186620</td>\n",
       "      <td>0.000005</td>\n",
       "      <td>1.255970e-186</td>\n",
       "    </tr>\n",
       "    <tr>\n",
       "      <th>215998</th>\n",
       "      <td>69.731354</td>\n",
       "      <td>0.637788</td>\n",
       "      <td>11.250544</td>\n",
       "      <td>0.000005</td>\n",
       "      <td>2.077241e-186</td>\n",
       "    </tr>\n",
       "    <tr>\n",
       "      <th>215999</th>\n",
       "      <td>69.731354</td>\n",
       "      <td>0.637788</td>\n",
       "      <td>11.314467</td>\n",
       "      <td>0.000005</td>\n",
       "      <td>3.384706e-186</td>\n",
       "    </tr>\n",
       "  </tbody>\n",
       "</table>\n",
       "<p>216000 rows × 5 columns</p>\n",
       "</div>"
      ],
      "text/plain": [
       "            slope  intercept      sigma     prior     likelihood\n",
       "0       46.487569   0.425192   7.542978  0.000005  7.781344e-219\n",
       "1       46.487569   0.425192   7.606902  0.000005  1.092113e-217\n",
       "2       46.487569   0.425192   7.670825  0.000005  1.415345e-216\n",
       "3       46.487569   0.425192   7.734749  0.000005  1.698358e-215\n",
       "4       46.487569   0.425192   7.798672  0.000005  1.891944e-214\n",
       "...           ...        ...        ...       ...            ...\n",
       "215995  69.731354   0.637788  11.058773  0.000005  4.384065e-187\n",
       "215996  69.731354   0.637788  11.122697  0.000005  7.478815e-187\n",
       "215997  69.731354   0.637788  11.186620  0.000005  1.255970e-186\n",
       "215998  69.731354   0.637788  11.250544  0.000005  2.077241e-186\n",
       "215999  69.731354   0.637788  11.314467  0.000005  3.384706e-186\n",
       "\n",
       "[216000 rows x 5 columns]"
      ]
     },
     "execution_count": 197,
     "metadata": {},
     "output_type": "execute_result"
    }
   ],
   "source": [
    "# View data\n",
    "df"
   ]
  },
  {
   "cell_type": "markdown",
   "id": "8d7891b8",
   "metadata": {},
   "source": [
    "## Update"
   ]
  },
  {
   "cell_type": "code",
   "execution_count": 198,
   "id": "04a24f0f",
   "metadata": {},
   "outputs": [
    {
     "data": {
      "text/html": [
       "<div>\n",
       "<style scoped>\n",
       "    .dataframe tbody tr th:only-of-type {\n",
       "        vertical-align: middle;\n",
       "    }\n",
       "\n",
       "    .dataframe tbody tr th {\n",
       "        vertical-align: top;\n",
       "    }\n",
       "\n",
       "    .dataframe thead th {\n",
       "        text-align: right;\n",
       "    }\n",
       "</style>\n",
       "<table border=\"1\" class=\"dataframe\">\n",
       "  <thead>\n",
       "    <tr style=\"text-align: right;\">\n",
       "      <th></th>\n",
       "      <th>slope</th>\n",
       "      <th>intercept</th>\n",
       "      <th>sigma</th>\n",
       "      <th>prior</th>\n",
       "      <th>likelihood</th>\n",
       "      <th>posterior</th>\n",
       "    </tr>\n",
       "  </thead>\n",
       "  <tbody>\n",
       "    <tr>\n",
       "      <th>0</th>\n",
       "      <td>46.487569</td>\n",
       "      <td>0.425192</td>\n",
       "      <td>7.542978</td>\n",
       "      <td>0.000005</td>\n",
       "      <td>7.781344e-219</td>\n",
       "      <td>6.162104e-64</td>\n",
       "    </tr>\n",
       "    <tr>\n",
       "      <th>1</th>\n",
       "      <td>46.487569</td>\n",
       "      <td>0.425192</td>\n",
       "      <td>7.606902</td>\n",
       "      <td>0.000005</td>\n",
       "      <td>1.092113e-217</td>\n",
       "      <td>8.648523e-63</td>\n",
       "    </tr>\n",
       "    <tr>\n",
       "      <th>2</th>\n",
       "      <td>46.487569</td>\n",
       "      <td>0.425192</td>\n",
       "      <td>7.670825</td>\n",
       "      <td>0.000005</td>\n",
       "      <td>1.415345e-216</td>\n",
       "      <td>1.120823e-61</td>\n",
       "    </tr>\n",
       "    <tr>\n",
       "      <th>3</th>\n",
       "      <td>46.487569</td>\n",
       "      <td>0.425192</td>\n",
       "      <td>7.734749</td>\n",
       "      <td>0.000005</td>\n",
       "      <td>1.698358e-215</td>\n",
       "      <td>1.344943e-60</td>\n",
       "    </tr>\n",
       "    <tr>\n",
       "      <th>4</th>\n",
       "      <td>46.487569</td>\n",
       "      <td>0.425192</td>\n",
       "      <td>7.798672</td>\n",
       "      <td>0.000005</td>\n",
       "      <td>1.891944e-214</td>\n",
       "      <td>1.498245e-59</td>\n",
       "    </tr>\n",
       "    <tr>\n",
       "      <th>...</th>\n",
       "      <td>...</td>\n",
       "      <td>...</td>\n",
       "      <td>...</td>\n",
       "      <td>...</td>\n",
       "      <td>...</td>\n",
       "      <td>...</td>\n",
       "    </tr>\n",
       "    <tr>\n",
       "      <th>215995</th>\n",
       "      <td>69.731354</td>\n",
       "      <td>0.637788</td>\n",
       "      <td>11.058773</td>\n",
       "      <td>0.000005</td>\n",
       "      <td>4.384065e-187</td>\n",
       "      <td>3.471774e-32</td>\n",
       "    </tr>\n",
       "    <tr>\n",
       "      <th>215996</th>\n",
       "      <td>69.731354</td>\n",
       "      <td>0.637788</td>\n",
       "      <td>11.122697</td>\n",
       "      <td>0.000005</td>\n",
       "      <td>7.478815e-187</td>\n",
       "      <td>5.922530e-32</td>\n",
       "    </tr>\n",
       "    <tr>\n",
       "      <th>215997</th>\n",
       "      <td>69.731354</td>\n",
       "      <td>0.637788</td>\n",
       "      <td>11.186620</td>\n",
       "      <td>0.000005</td>\n",
       "      <td>1.255970e-186</td>\n",
       "      <td>9.946120e-32</td>\n",
       "    </tr>\n",
       "    <tr>\n",
       "      <th>215998</th>\n",
       "      <td>69.731354</td>\n",
       "      <td>0.637788</td>\n",
       "      <td>11.250544</td>\n",
       "      <td>0.000005</td>\n",
       "      <td>2.077241e-186</td>\n",
       "      <td>1.644982e-31</td>\n",
       "    </tr>\n",
       "    <tr>\n",
       "      <th>215999</th>\n",
       "      <td>69.731354</td>\n",
       "      <td>0.637788</td>\n",
       "      <td>11.314467</td>\n",
       "      <td>0.000005</td>\n",
       "      <td>3.384706e-186</td>\n",
       "      <td>2.680374e-31</td>\n",
       "    </tr>\n",
       "  </tbody>\n",
       "</table>\n",
       "<p>216000 rows × 6 columns</p>\n",
       "</div>"
      ],
      "text/plain": [
       "            slope  intercept      sigma     prior     likelihood     posterior\n",
       "0       46.487569   0.425192   7.542978  0.000005  7.781344e-219  6.162104e-64\n",
       "1       46.487569   0.425192   7.606902  0.000005  1.092113e-217  8.648523e-63\n",
       "2       46.487569   0.425192   7.670825  0.000005  1.415345e-216  1.120823e-61\n",
       "3       46.487569   0.425192   7.734749  0.000005  1.698358e-215  1.344943e-60\n",
       "4       46.487569   0.425192   7.798672  0.000005  1.891944e-214  1.498245e-59\n",
       "...           ...        ...        ...       ...            ...           ...\n",
       "215995  69.731354   0.637788  11.058773  0.000005  4.384065e-187  3.471774e-32\n",
       "215996  69.731354   0.637788  11.122697  0.000005  7.478815e-187  5.922530e-32\n",
       "215997  69.731354   0.637788  11.186620  0.000005  1.255970e-186  9.946120e-32\n",
       "215998  69.731354   0.637788  11.250544  0.000005  2.077241e-186  1.644982e-31\n",
       "215999  69.731354   0.637788  11.314467  0.000005  3.384706e-186  2.680374e-31\n",
       "\n",
       "[216000 rows x 6 columns]"
      ]
     },
     "execution_count": 198,
     "metadata": {},
     "output_type": "execute_result"
    }
   ],
   "source": [
    "# Computing and normalising the posterior\n",
    "df[\"posterior\"] = df[\"prior\"] * df[\"likelihood\"]\n",
    "df[\"posterior\"] = df[\"posterior\"] / df[\"posterior\"].sum()\n",
    "df"
   ]
  },
  {
   "cell_type": "markdown",
   "id": "948ec4a9",
   "metadata": {},
   "source": [
    "## Posterior"
   ]
  },
  {
   "cell_type": "code",
   "execution_count": 199,
   "id": "5ad44691",
   "metadata": {},
   "outputs": [],
   "source": [
    "# Get the marginal probability\n",
    "slope_df = df.groupby(\"slope\").sum()"
   ]
  },
  {
   "cell_type": "code",
   "execution_count": 200,
   "id": "89136fdf",
   "metadata": {},
   "outputs": [
    {
     "data": {
      "image/png": "[encoded data removed]",
      "text/plain": [
       "<Figure size 576x360 with 1 Axes>"
      ]
     },
     "metadata": {
      "needs_background": "light"
     },
     "output_type": "display_data"
    }
   ],
   "source": [
    "# Plot the posterior distribution of the slope\n",
    "plt.figure(figsize=(8, 5))\n",
    "plt.plot(slope_df.index, slope_df.posterior, linewidth=3)\n",
    "plt.xticks(fontsize=18)\n",
    "plt.yticks(fontsize=18)\n",
    "plt.xlabel(\"Slope Value\", fontsize=18)\n",
    "plt.ylabel(\"PDF\", fontsize=18)\n",
    "plt.axvline(results.params[\"x\"], color=\"red\", ls=\"--\", label=\"OLS Estimate\")\n",
    "plt.legend(fontsize=16)\n",
    "plt.tight_layout()\n",
    "plt.savefig(\"c.png\")\n",
    "plt.show()"
   ]
  },
  {
   "cell_type": "code",
   "execution_count": 201,
   "id": "72631d8b",
   "metadata": {},
   "outputs": [],
   "source": [
    "# Get the marginal probability\n",
    "intercept_df = df.groupby(\"intercept\").sum()"
   ]
  },
  {
   "cell_type": "code",
   "execution_count": 202,
   "id": "39cd6f6f",
   "metadata": {},
   "outputs": [
    {
     "data": {
      "image/png": "[encoded data removed]",
      "text/plain": [
       "<Figure size 576x360 with 1 Axes>"
      ]
     },
     "metadata": {
      "needs_background": "light"
     },
     "output_type": "display_data"
    }
   ],
   "source": [
    "# Plot the posterior distribution of the slope\n",
    "plt.figure(figsize=(8, 5))\n",
    "plt.plot(intercept_df.index, intercept_df.posterior, linewidth=3)\n",
    "plt.xticks(fontsize=18)\n",
    "plt.yticks(fontsize=18)\n",
    "plt.xlabel(\"Intercept Value\", fontsize=18)\n",
    "plt.ylabel(\"PDF\", fontsize=18)\n",
    "plt.axvline(results.params[\"Intercept\"], color=\"red\", ls=\"--\", label=\"OLS Estimate\")\n",
    "plt.legend(fontsize=16)\n",
    "plt.tight_layout()\n",
    "plt.savefig(\"c.png\")\n",
    "plt.show()"
   ]
  },
  {
   "cell_type": "code",
   "execution_count": 203,
   "id": "bc0aa125",
   "metadata": {},
   "outputs": [],
   "source": [
    "# Get the marginal probability\n",
    "sigma_df = df.groupby(\"sigma\").sum()"
   ]
  },
  {
   "cell_type": "code",
   "execution_count": 204,
   "id": "5e1e85a8",
   "metadata": {},
   "outputs": [
    {
     "data": {
      "image/png": "[encoded data removed]",
      "text/plain": [
       "<Figure size 576x360 with 1 Axes>"
      ]
     },
     "metadata": {
      "needs_background": "light"
     },
     "output_type": "display_data"
    }
   ],
   "source": [
    "# Plot the posterior distribution of the slope\n",
    "plt.figure(figsize=(8, 5))\n",
    "plt.plot(sigma_df.index, sigma_df.posterior, linewidth=3)\n",
    "plt.xticks(fontsize=18)\n",
    "plt.yticks(fontsize=18)\n",
    "plt.xlabel(\"Sigma Value\", fontsize=18)\n",
    "plt.ylabel(\"PDF\", fontsize=18)\n",
    "plt.axvline(results.resid.std(), color=\"red\", ls=\"--\", label=\"OLS Estimate\")\n",
    "plt.legend(fontsize=16)\n",
    "plt.tight_layout()\n",
    "plt.savefig(\"d.png\")\n",
    "plt.show()"
   ]
  },
  {
   "cell_type": "code",
   "execution_count": null,
   "id": "854d58ea",
   "metadata": {},
   "outputs": [],
   "source": []
  },
  {
   "cell_type": "code",
   "execution_count": null,
   "id": "8941d30f",
   "metadata": {},
   "outputs": [],
   "source": []
  }
 ],
 "metadata": {
  "kernelspec": {
   "display_name": "Python 3 (ipykernel)",
   "language": "python",
   "name": "python3"
  },
  "language_info": {
   "codemirror_mode": {
    "name": "ipython",
    "version": 3
   },
   "file_extension": ".py",
   "mimetype": "text/x-python",
   "name": "python",
   "nbconvert_exporter": "python",
   "pygments_lexer": "ipython3",
   "version": "3.9.12"
  }
 },
 "nbformat": 4,
 "nbformat_minor": 5
}
